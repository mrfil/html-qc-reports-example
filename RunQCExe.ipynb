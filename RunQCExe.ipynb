{
 "cells": [
  {
   "cell_type": "code",
   "execution_count": null,
   "id": "d2039b8a",
   "metadata": {},
   "outputs": [],
   "source": [
    "#Make example data csv and use it to run QCExeExample. Data from generated csv will be used to create an html \n",
    "#page with graphs corresponding to the variables in ExampleData.csv\n",
    "\n",
    "#MakeExampleData.ipynb uses a pre-existing csv generated using the same notebook. The distribution, mean, and standard deviation\n",
    "#for each variable are determined and used to generate a new set of data. This data is put in to the output file,\n",
    "#ExampleData.csv.\n",
    "\n",
    "%run MakeExampleData.ipynb"
   ]
  },
  {
   "cell_type": "code",
   "execution_count": null,
   "id": "36ae2646",
   "metadata": {},
   "outputs": [],
   "source": [
    "#QCExeExample is run using generated csv.\n",
    "%run QCExeExample.ipynb"
   ]
  }
 ],
 "metadata": {
  "kernelspec": {
   "display_name": "Python 3 (ipykernel)",
   "language": "python",
   "name": "python3"
  },
  "language_info": {
   "codemirror_mode": {
    "name": "ipython",
    "version": 3
   },
   "file_extension": ".py",
   "mimetype": "text/x-python",
   "name": "python",
   "nbconvert_exporter": "python",
   "pygments_lexer": "ipython3",
   "version": "3.10.2"
  }
 },
 "nbformat": 4,
 "nbformat_minor": 5
}
